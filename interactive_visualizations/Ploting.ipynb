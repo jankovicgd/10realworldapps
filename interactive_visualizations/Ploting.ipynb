{
 "cells": [
  {
   "cell_type": "code",
   "execution_count": 2,
   "metadata": {},
   "outputs": [],
   "source": [
    "from bokeh.charts import Scatter, output_file, show\n",
    "import pandas\n",
    "\n",
    "df = pandas.DataFrame(columns=[\"X\", \"Y\"])\n",
    "df[\"X\"] = [1, 2, 3, 4, 5]\n",
    "df[\"Y\"] = [5, 6, 4, 5, 3]\n",
    "\n",
    "p = Scatter(df, x = \"X\", y = \"Y\", title = \"Temperature Observations\", xlabel = \"Day of observation\", ylabel = \"Temperature\")\n",
    "\n",
    "output_file(\"Scatter_charts.html\")\n",
    "\n",
    "show(p)"
   ]
  },
  {
   "cell_type": "code",
   "execution_count": 67,
   "metadata": {},
   "outputs": [],
   "source": [
    "from bokeh.plotting import figure, output_file, show\n",
    "\n",
    "p = figure(plot_width = 500, plot_height = 400, tools =\"pan, resize\", logo = None)\n",
    "\n",
    "p.title.text = \"Earthquakes\"\n",
    "p.title.text_color = \"Orange\"\n",
    "p.title.text_font = \"times\"\n",
    "p.title.text_font_style =  \"italic\"\n",
    "p.title.text_font_size = '20pt'\n",
    "\n",
    "p.yaxis.minor_tick_line_color = None\n",
    "p.xaxis.minor_tick_line_color = None\n",
    "\n",
    "p.xaxis.axis_label = \"Times\"\n",
    "p.yaxis.axis_label = \"Value\"\n",
    "\n",
    "p.line([1, 2, 3, 4, 5], [5, 6, 4, 5, 3], line_width = 2, color = \"red\", alpha = 0.5)\n",
    "p.circle([i * 2 for i in [1, 2, 3, 4, 5]], [5, 6, 4, 5, 3], size = 8, color = \"olive\", alpha = 0.5)\n",
    "\n",
    "output_file(\"Scatter_plotting.html\")\n",
    "show(p)"
   ]
  },
  {
   "cell_type": "code",
   "execution_count": 57,
   "metadata": {},
   "outputs": [],
   "source": [
    "from bokeh.plotting import figure, output_file, show\n",
    "import pandas\n",
    "\n",
    "df = pandas.read_csv(\"verlegenhuken.csv\")\n",
    "p = figure(plot_width = 500, plot_height = 400)\n",
    "\n",
    "p.circle(df[\"Temperature\"] / 10, df[\"Pressure\"] / 10, size = 0.5, color = \"blue\")\n",
    "p.yaxis.minor_tick_line_color = None\n",
    "p.xaxis.minor_tick_line_color = None\n",
    "p.xaxis.axis_label = \"Temperature (C)\"\n",
    "p.yaxis.axis_label = \"Pressure (hPa)\"\n",
    "p.title.text = \"Temperature and Air Pressure\"\n",
    "p.title.text_color = \"Gray\"\n",
    "p.title.text_font = \"arial\"\n",
    "p.title.text_font_size = \"20pt\"\n",
    "p.title.text_font_style = \"bold\"\n",
    "\n",
    "\n",
    "output_file(\"Temp_airPress.html\")\n",
    "show(p)"
   ]
  },
  {
   "cell_type": "code",
   "execution_count": 68,
   "metadata": {},
   "outputs": [],
   "source": [
    "from bokeh.plotting import figure, output_file, show\n",
    "import pandas\n",
    "\n",
    "df = pandas.read_csv(\"http://www.google.com/finance/historical?q=NASDAQ:ADBE&startdate=Jan+01%2C+2009&enddate=Aug+2%2C+2012&output=csv\", parse_dates = [\"Date\"])\n",
    "\n",
    "p = figure(width = 500, height = 250, x_axis_type = \"datetime\", responsive = True)\n",
    "\n",
    "p.line(df[\"Date\"], df[\"Close\"], color = \"Orange\", alpha = 0.5)\n",
    "\n",
    "output_file(\"Timeseries.html\")\n",
    "show(p)\n"
   ]
  }
 ],
 "metadata": {
  "kernelspec": {
   "display_name": "Python 3",
   "language": "python",
   "name": "python3"
  },
  "language_info": {
   "codemirror_mode": {
    "name": "ipython",
    "version": 3
   },
   "file_extension": ".py",
   "mimetype": "text/x-python",
   "name": "python",
   "nbconvert_exporter": "python",
   "pygments_lexer": "ipython3",
   "version": "3.6.0"
  }
 },
 "nbformat": 4,
 "nbformat_minor": 2
}
